{
 "cells": [
  {
   "cell_type": "code",
   "execution_count": 1,
   "metadata": {},
   "outputs": [],
   "source": [
    "import dsp\n",
    "import os\n",
    "\n",
    "os.environ['KMP_DUPLICATE_LIB_OK'] = 'TRUE'"
   ]
  },
  {
   "cell_type": "code",
   "execution_count": 2,
   "metadata": {},
   "outputs": [],
   "source": [
    "train = [('Who produced the album that included a re-recording of \"Lithium\"?', ['Butch Vig']),\n",
    "         ('Who was the director of the 2009 movie featuring Peter Outerbridge as William Easton?', ['Kevin Greutert']),\n",
    "         ('The heir to the Du Pont family fortune sponsored what wrestling team?', ['Foxcatcher', 'Team Foxcatcher', 'Foxcatcher Team']),\n",
    "         ('In what year was the star of To Hell and Back born?', ['1925']),\n",
    "         ('Which award did the first book of Gary Zukav receive?', ['U.S. National Book Award', 'National Book Award']),\n",
    "         ('What city was the victim of Joseph Druces working in?', ['Boston, Massachusetts', 'Boston']),]\n",
    "\n",
    "train = [dsp.Example(question=question, answer=answer) for question, answer in train]"
   ]
  },
  {
   "cell_type": "code",
   "execution_count": 3,
   "metadata": {},
   "outputs": [],
   "source": [
    "import numpy as np\n",
    "\n",
    "EMB_DIM = 768\n",
    "np.random.seed(42)\n",
    "\n",
    "\n",
    "three_closest_embeddings = np.random.randn(3, EMB_DIM)\n",
    "# shift the last three so they won't be the closest ones\n",
    "three_furthest_embeddings = three_closest_embeddings.copy() + 10\n",
    "train_embeddings = np.concatenate([three_closest_embeddings, three_furthest_embeddings], axis=0)\n",
    "\n",
    "for idx, example in enumerate(train):\n",
    "    example.vectorized = train_embeddings[idx]"
   ]
  },
  {
   "cell_type": "code",
   "execution_count": 4,
   "metadata": {},
   "outputs": [],
   "source": [
    "dev = [('Who has a broader scope of profession: E. L. Doctorow or Julia Peterkin?', ['E. L. Doctorow', 'E.L. Doctorow', 'Doctorow'])]\n",
    "\n",
    "dev = [dsp.Example(question=question, answer=answer) for question, answer in dev]\n",
    "dev[0].vectorized = train_embeddings[1] # the same as in train, 2nd will be closest 100%"
   ]
  },
  {
   "cell_type": "code",
   "execution_count": 5,
   "metadata": {},
   "outputs": [],
   "source": [
    "knn_func = dsp.knn(train)"
   ]
  },
  {
   "cell_type": "code",
   "execution_count": 6,
   "metadata": {},
   "outputs": [
    {
     "data": {
      "text/plain": [
       "[1, 0, 2]"
      ]
     },
     "execution_count": 6,
     "metadata": {},
     "output_type": "execute_result"
    }
   ],
   "source": [
    "knn_res_dev = knn_func(dev[0], 3)\n",
    "[train.index(i) for i in knn_res_dev] # first 3 train examples are the closest, the first one w index 1 is the first in the list"
   ]
  },
  {
   "cell_type": "code",
   "execution_count": 7,
   "metadata": {},
   "outputs": [
    {
     "data": {
      "text/plain": [
       "[4, 3, 5]"
      ]
     },
     "execution_count": 7,
     "metadata": {},
     "output_type": "execute_result"
    }
   ],
   "source": [
    "knn_res_train = knn_func(train[-2], 3)\n",
    "[train.index(i) for i in knn_res_train] # as expected"
   ]
  },
  {
   "attachments": {},
   "cell_type": "markdown",
   "metadata": {},
   "source": [
    "### SentenceTransformer-based knn"
   ]
  },
  {
   "cell_type": "code",
   "execution_count": 8,
   "metadata": {},
   "outputs": [],
   "source": [
    "# we need to add some relevant and irrelevant questions to double-check the logic\n",
    "\n",
    "train = [\n",
    "    # base questions\n",
    "    ('Who produced the album that included a re-recording of \"Lithium\"?', ['Butch Vig']),\n",
    "    ('Who was the director of the 2009 movie featuring Peter Outerbridge as William Easton?', ['Kevin Greutert']),\n",
    "    ('The heir to the Du Pont family fortune sponsored what wrestling team?', ['Foxcatcher', 'Team Foxcatcher', 'Foxcatcher Team']),\n",
    "    ('In what year was the star of To Hell and Back born?', ['1925']),\n",
    "    ('Which award did the first book of Gary Zukav receive?', ['U.S. National Book Award', 'National Book Award']),\n",
    "    ('What city was the victim of Joseph Druces working in?', ['Boston, Massachusetts', 'Boston']),\n",
    "    # extra\n",
    "    ('Who founded Smart Studios in Madison, while still performing drums in Spooner at night and driving a taxi cab during the day?', ['Butch Vig']),\n",
    "    ('There were two founders of recording studio called \"Smart Studios\". The first one was Butch Vig. Who was the second founder?', ['Steve Marker']),\n",
    "\n",
    "    ('What is the first book of Gary Zukav?', ['\"The Dancing Wu Li Masters\"', \"'The Dancing Wu Li Masters'\", \"The Dancing Wu Li Masters\"]),\n",
    "    ('When did Zukav returned to the United States?', ['1970'])\n",
    "]\n",
    "\n",
    "train = [dsp.Example(question=question, answer=answer) for question, answer in train]"
   ]
  },
  {
   "cell_type": "code",
   "execution_count": 9,
   "metadata": {},
   "outputs": [],
   "source": [
    "transformer_vectorize = dsp.get_sentence_transformers_vectorize_func()\n",
    "knn_func = dsp.knn(train, vectorize=transformer_vectorize)"
   ]
  },
  {
   "cell_type": "code",
   "execution_count": 10,
   "metadata": {},
   "outputs": [
    {
     "name": "stdout",
     "output_type": "stream",
     "text": [
      "Who produced the album that included a re-recording of \"Lithium\"?\n",
      "--------------------------------------------------------------------------------\n",
      "Who produced the album that included a re-recording of \"Lithium\"?\n",
      "Who founded Smart Studios in Madison, while still performing drums in Spooner at night and driving a taxi cab during the day?\n",
      "There were two founders of recording studio called \"Smart Studios\". The first one was Butch Vig. Who was the second founder?\n"
     ]
    }
   ],
   "source": [
    "QUERY_IDX = 0\n",
    "\n",
    "knn_res_train_vec = knn_func(train[QUERY_IDX], 3)\n",
    "print(train[QUERY_IDX].question)  # the query itself\n",
    "# similar questions\n",
    "print('-'*80)\n",
    "for i in [train[train.index(i)].question for i in knn_res_train_vec]:\n",
    "    print(i)"
   ]
  },
  {
   "cell_type": "code",
   "execution_count": 11,
   "metadata": {},
   "outputs": [
    {
     "name": "stdout",
     "output_type": "stream",
     "text": [
      "Which award did the first book of Gary Zukav receive?\n",
      "--------------------------------------------------------------------------------\n",
      "Which award did the first book of Gary Zukav receive?\n",
      "What is the first book of Gary Zukav?\n",
      "When did Zukav returned to the United States?\n"
     ]
    }
   ],
   "source": [
    "QUERY_IDX = 4\n",
    "\n",
    "knn_res_train_vec = knn_func(train[QUERY_IDX], 3)\n",
    "print(train[QUERY_IDX].question)  # the query itself\n",
    "# similar questions\n",
    "print('-'*80)\n",
    "for i in [train[train.index(i)].question for i in knn_res_train_vec]:\n",
    "    print(i)"
   ]
  },
  {
   "cell_type": "code",
   "execution_count": null,
   "metadata": {},
   "outputs": [],
   "source": []
  }
 ],
 "metadata": {
  "kernelspec": {
   "display_name": "base",
   "language": "python",
   "name": "python3"
  },
  "language_info": {
   "codemirror_mode": {
    "name": "ipython",
    "version": 3
   },
   "file_extension": ".py",
   "mimetype": "text/x-python",
   "name": "python",
   "nbconvert_exporter": "python",
   "pygments_lexer": "ipython3",
   "version": "3.8.5"
  },
  "orig_nbformat": 4,
  "vscode": {
   "interpreter": {
    "hash": "3b53cdb0bf9b815b12de7512a3c2ebfaf76b70a6c1108d7bdac63e2ca9602dd2"
   }
  }
 },
 "nbformat": 4,
 "nbformat_minor": 2
}
