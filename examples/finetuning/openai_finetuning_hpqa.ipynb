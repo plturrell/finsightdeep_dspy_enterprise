{
 "cells": [
  {
   "cell_type": "code",
   "execution_count": 1,
   "metadata": {},
   "outputs": [],
   "source": [
    "%load_ext autoreload\n",
    "%autoreload 2"
   ]
  },
  {
   "cell_type": "code",
   "execution_count": 2,
   "metadata": {},
   "outputs": [
    {
     "name": "stderr",
     "output_type": "stream",
     "text": [
      "/Users/isaac.miller/projects/dspy-finetuning/.venv/lib/python3.9/site-packages/urllib3/__init__.py:35: NotOpenSSLWarning: urllib3 v2 only supports OpenSSL 1.1.1+, currently the 'ssl' module is compiled with 'LibreSSL 2.8.3'. See: https://github.com/urllib3/urllib3/issues/3020\n",
      "  warnings.warn(\n",
      "/Users/isaac.miller/projects/dspy-finetuning/.venv/lib/python3.9/site-packages/tqdm/auto.py:21: TqdmWarning: IProgress not found. Please update jupyter and ipywidgets. See https://ipywidgets.readthedocs.io/en/stable/user_install.html\n",
      "  from .autonotebook import tqdm as notebook_tqdm\n"
     ]
    }
   ],
   "source": [
    "import sys\n",
    "import os\n",
    "\n",
    "import zipfile\n",
    "import os\n",
    "\n",
    "import dotenv\n",
    "\n",
    "dotenv.load_dotenv()\n",
    "import dspy\n",
    "\n",
    "from dspy.datasets import HotPotQA\n",
    "import re\n",
    "from dspy.evaluate import Evaluate\n",
    "\n",
    "from dsp.utils import EM\n",
    "from dsp.utils.utils import deduplicate\n",
    "import collections"
   ]
  },
  {
   "cell_type": "code",
   "execution_count": 3,
   "metadata": {},
   "outputs": [],
   "source": [
    "import openai\n",
    "\n",
    "openai.api_key = os.environ.get('OPENAI_API_KEY')\n",
    "\n",
    "mini = \"gpt-4o-mini-2024-07-18\"\n",
    "base_temp = 0.9\n",
    "\n",
    "lm = dspy.OpenAIModel(model=mini, max_tokens=500, temperature=base_temp)\n",
    "\n",
    "colbert_v2_endpoint = \"http://20.102.90.50:2017/wiki17_abstracts\"\n",
    "colbertv2 = dspy.ColBERTv2(url=colbert_v2_endpoint)\n",
    "\n",
    "dspy.settings.configure(rm=colbertv2, lm=lm) "
   ]
  },
  {
   "cell_type": "code",
   "execution_count": 4,
   "metadata": {},
   "outputs": [],
   "source": [
    "import dspy.evaluate\n",
    "\n",
    "\n",
    "class AnswerCorrectnessSignature(dspy.Signature):\n",
    "    \"\"\"Verify that the predicted answer matches the gold answer.\"\"\"\n",
    "\n",
    "    question = dspy.InputField()\n",
    "    gold_answer = dspy.InputField(desc=\"correct answer for question\")\n",
    "    predicted_answer = dspy.InputField(desc=\"predicted answer for question\")\n",
    "    is_correct = dspy.OutputField(desc='True or False')\n",
    "\n",
    "class AnswerCorrectness(dspy.Module):\n",
    "    def __init__(self):\n",
    "        super().__init__()\n",
    "        self.evaluate_correctness = dspy.ChainOfThought(AnswerCorrectnessSignature)\n",
    "    \n",
    "    def forward(self, example, predicted_answer):\n",
    "        question, gold_answer = example.question, example.answer\n",
    "        with dspy.context(lm=dspy.OpenAI(model=mini, max_tokens=100, temperature=0.1)):\n",
    "            return self.evaluate_correctness(question=question, gold_answer=gold_answer, predicted_answer=predicted_answer)\n",
    "    \n",
    "evaluator = AnswerCorrectness()\n",
    "\n",
    "# def metric(example, pred, trace=None):\n",
    "#     result = evaluator(example=example, predicted_answer=pred.answer).is_correct.lower()\n",
    "#     return \"true\" in result and not \"false\" in result\n",
    "\n",
    "metric = dspy.evaluate.answer_exact_match"
   ]
  },
  {
   "cell_type": "code",
   "execution_count": 5,
   "metadata": {},
   "outputs": [],
   "source": [
    "# Load and configure the datasets.\n",
    "TRAIN_SIZE = 500\n",
    "EVAL_SIZE = 500\n",
    "\n",
    "hotpot_dataset = HotPotQA(train_seed=1, eval_seed=2023, test_size=0, keep_details=\"type\")\n",
    "trainset = [x.with_inputs('question') for x in hotpot_dataset.train][:EVAL_SIZE]\n",
    "devset = [x.with_inputs('question') for x in hotpot_dataset.dev][:EVAL_SIZE]\n",
    "\n",
    "# Set up metrics\n",
    "NUM_THREADS = 12"
   ]
  },
  {
   "cell_type": "code",
   "execution_count": 6,
   "metadata": {},
   "outputs": [],
   "source": [
    "kwargs = dict(num_threads=NUM_THREADS, display_progress=True)\n",
    "evaluate = Evaluate(devset=devset, metric=metric, **kwargs)"
   ]
  },
  {
   "cell_type": "code",
   "execution_count": 7,
   "metadata": {},
   "outputs": [],
   "source": [
    "class BasicMH(dspy.Module):\n",
    "    def __init__(self, passages_per_hop=3):\n",
    "        super().__init__()\n",
    "        self.retrieve = dspy.Retrieve(k=passages_per_hop)\n",
    "        self.generate_query = [dspy.ChainOfThought(\"context, question -> search_query\") for _ in range(2)]\n",
    "        self.generate_answer = dspy.ChainOfThought(\"context, question -> answer\")\n",
    "\n",
    "    def forward(self, question, return_trace=False):\n",
    "        context = []\n",
    "        for hop in range(2):\n",
    "            search_query = self.generate_query[hop](context=context, question=question).search_query\n",
    "            passages = self.retrieve(search_query).passages\n",
    "            context = deduplicate(context + passages)\n",
    "\n",
    "        x = self.generate_answer(context=context, question=question).copy(context=context)\n",
    "        \n",
    "        if return_trace:\n",
    "            return x, dspy.settings.trace\n",
    "        return x"
   ]
  },
  {
   "cell_type": "code",
   "execution_count": 8,
   "metadata": {},
   "outputs": [],
   "source": [
    "# program = BasicMH()\n",
    "# program(question=\"What is the capital of France?\")"
   ]
  },
  {
   "cell_type": "code",
   "execution_count": 9,
   "metadata": {},
   "outputs": [],
   "source": [
    "from dspy.teleprompt.random_search import BootstrapFewShotWithRandomSearch\n",
    "\n",
    "program_params = {\n",
    "    \"passages_per_hop\": 3,\n",
    "}\n",
    "\n",
    "COMPILE = False\n",
    "\n",
    "if COMPILE:\n",
    "    max_bootstrapped_demos, max_labeled_demos, num_candidate_programs = 3,3,6\n",
    "    config = dict(max_bootstrapped_demos=max_bootstrapped_demos, num_candidate_programs=num_candidate_programs, num_threads=NUM_THREADS)\n",
    "    teleprompter = BootstrapFewShotWithRandomSearch(metric=metric, **config)\n",
    "    basicmh_bs = teleprompter.compile(BasicMH(**program_params), trainset=trainset[:100], valset=devset[:150])\n",
    "    basicmh_bs.save(f\"basicmh_{max_bootstrapped_demos}_{max_labeled_demos}_{num_candidate_programs}.json\")\n",
    "\n",
    "    baseline_eval = evaluate(BasicMH(**program_params), devset=devset[:300])\n",
    "    bs_eval = evaluate(basicmh_bs, devset=devset[:300])\n",
    "else:\n",
    "    basicmh_bs = BasicMH(**program_params)\n",
    "    basicmh_bs.load(\"basicmh_3_3_6.json\")"
   ]
  },
  {
   "cell_type": "code",
   "execution_count": 10,
   "metadata": {},
   "outputs": [
    {
     "name": "stderr",
     "output_type": "stream",
     "text": [
      "Average Metric: 62 / 100  (62.0): 100%|██████████| 100/100 [00:00<00:00, 351.07it/s]\n"
     ]
    },
    {
     "name": "stdout",
     "output_type": "stream",
     "text": [
      "186\n"
     ]
    },
    {
     "name": "stderr",
     "output_type": "stream",
     "text": [
      "Average Metric: 56 / 100  (56.0): 100%|██████████| 100/100 [00:00<00:00, 343.97it/s]\n"
     ]
    },
    {
     "name": "stdout",
     "output_type": "stream",
     "text": [
      "168\n"
     ]
    }
   ],
   "source": [
    "from collections import Counter\n",
    "from dspy.teleprompt.finetune_teleprompter import bootstrap_data_multiple_rounds, DataCollectionCallback, build_prompt_completion_data_from_trace\n",
    "from typing import Callable\n",
    "import ujson\n",
    "\n",
    "samples = 100\n",
    "\n",
    "callback = DataCollectionCallback(num_correct=1, max_attempts=1)\n",
    "\n",
    "dspy.settings.configure(experimental=True)\n",
    "dc_kwargs = {\n",
    "    # \"exclude_demos\":True, \n",
    "    \"sampling_temperature_base\": base_temp,\n",
    "    \"sampling_temperature_delta\":0.0001,\n",
    "    \"next_round_dataset_callback\": callback.move_on_callback_correct_with_max,\n",
    "    \"num_threads\": NUM_THREADS,\n",
    "}\n",
    "basicmh_bs = BasicMH(**program_params)\n",
    "basicmh_bs.load(\"basicmh_3_3_6.json\")\n",
    "# NOTE: It looks like all data, not just success is saved\n",
    "\n",
    "trainset_data = bootstrap_data_multiple_rounds(basicmh_bs, trainset[:samples], metric, num_rounds=1, **dc_kwargs)\n",
    "trainset_data = sum([build_prompt_completion_data_from_trace(result[\"trace\"], program=basicmh_bs, exclude_demos=True) for result in trainset_data if result[\"score\"]], [])\n",
    "trainset_data = lm.format_data_for_vanilla_finetuning(trainset_data)\n",
    "print(len(trainset_data))\n",
    "ts_json = ujson.dumps(trainset_data)\n",
    "with open(\"trainset_data.jsonl\", \"w\") as f:\n",
    "    for line in trainset_data:\n",
    "        f.write(ujson.dumps(line) + \"\\n\")\n",
    "\n",
    "devset_data = bootstrap_data_multiple_rounds(basicmh_bs, devset[:int(samples)], metric, num_rounds=1, **dc_kwargs)\n",
    "devset_data = sum([build_prompt_completion_data_from_trace(result[\"trace\"], program=basicmh_bs, exclude_demos=True) for result in devset_data if result[\"score\"]], [])\n",
    "devset_data = lm.format_data_for_vanilla_finetuning(devset_data)\n",
    "print(len(devset_data))\n",
    "ds_json = ujson.dumps(devset_data)\n",
    "with open(\"devset_data.jsonl\", \"w\") as f:\n",
    "    for line in devset_data:\n",
    "        f.write(ujson.dumps(line) + \"\\n\")"
   ]
  },
  {
   "cell_type": "code",
   "execution_count": 11,
   "metadata": {},
   "outputs": [],
   "source": [
    "lm.start_training(\"trainset_data.jsonl\", \"devset_data.jsonl\", method=\"SFT\")"
   ]
  },
  {
   "cell_type": "code",
   "execution_count": null,
   "metadata": {},
   "outputs": [],
   "source": [
    "# from dspy.teleprompt.finetune_teleprompter import BootstrapFinetune\n",
    "# ft:gpt-4o-mini-2024-07-18:anyscale:nosys:9vUm0BYv\n",
    "# teleprompter = BootstrapFinetune(training_kwargs={}, seed=314)"
   ]
  },
  {
   "cell_type": "code",
   "execution_count": null,
   "metadata": {},
   "outputs": [],
   "source": [
    "TRAIN_FROM_SCRATCH = False\n",
    "\n",
    "if TRAIN_FROM_SCRATCH:\n",
    "    teacher = basicmh_bs\n",
    "    \n",
    "    # something like\n",
    "    # Go through all the possible methods + save/load\n",
    "    # change to future[lm] first\n",
    "\n",
    "\n",
    "    # TODO: Working here\n",
    "    # teleprompter = BootstrapFinetune(training_kwargs={}, seed=314)\n",
    "#     kwargs = {\"num_threads\": NUM_THREADS, \"combine\": True}\n",
    "#     # NOTE: LM IS NOT SET PROPERLY\n",
    "#     basicmh_bs_ft = teleprompter.compile(BasicMH(**program_params), teacher=teacher, dataset=trainset[:samples], metric=metric, data_collection_kwargs=dc_kwargs, **kwargs)\n",
    "#     basicmh_bs_ft.save('mini_ft_hpqa_100.json')\n",
    "# else:\n",
    "#     basicmh_bs_ft = BasicMH(**program_params)\n",
    "#     basicmh_bs_ft.load('mini_ft_hpqa_100.json')"
   ]
  },
  {
   "cell_type": "code",
   "execution_count": null,
   "metadata": {},
   "outputs": [],
   "source": [
    "lm2 = lm.copy()\n",
    "lm2.kwargs[\"model\"] = \"ft:gpt-4o-mini-2024-07-18:anyscale:nosys:9vUm0BYv\"\n",
    "\n",
    "basicmh_bs_ft = BasicMH(**program_params)\n",
    "basicmh_bs_ft._set_all_predictor_lms(lm2)\n",
    "# print(basicmh_bs_ft.predictors()[0].lm.kwargs[\"model\"])\n",
    "# dspy.settings.configure(lm=basicmh_bs_ft.predictors()[0].lm)"
   ]
  },
  {
   "cell_type": "code",
   "execution_count": null,
   "metadata": {},
   "outputs": [],
   "source": [
    "RECOMPILE_FT_MODEL = False\n",
    "\n",
    "if RECOMPILE_FT_MODEL:\n",
    "    max_bootstrapped_demos, max_labeled_demos, num_candidate_programs = 3,3,6\n",
    "    config = dict(max_bootstrapped_demos=max_bootstrapped_demos, num_candidate_programs=num_candidate_programs, num_threads=NUM_THREADS)\n",
    "    bsfsrs_teleprompter = BootstrapFewShotWithRandomSearch(metric=metric, **config)\n",
    "    basicmh_bs_ft_bs = bsfsrs_teleprompter.compile(student=basicmh_bs_ft, trainset=trainset[:100], valset=devset[:250])\n",
    "    basicmh_bs_ft_bs.save('mini_bs_ft_bs_hpqa_100.json')\n",
    "else:\n",
    "    basicmh_bs_ft_bs = BasicMH(**program_params)\n",
    "    basicmh_bs_ft_bs.load('mini_bs_ft_bs_hpqa_100.json')"
   ]
  },
  {
   "cell_type": "code",
   "execution_count": null,
   "metadata": {},
   "outputs": [],
   "source": [
    "TEST_SIZE = 300\n",
    "\n",
    "with dspy.context(lm=dspy.OpenAI(model=mini, max_tokens=500, temperature=0.0)):\n",
    "    baseline_eval = evaluate(BasicMH(**program_params), devset=devset[:TEST_SIZE])\n",
    "    bs_eval = evaluate(basicmh_bs, devset=devset[:TEST_SIZE])\n",
    "with dspy.context(lm=dspy.OpenAI(model=\"ft:gpt-4o-mini-2024-07-18:anyscale:nosys:9vUm0BYv\", max_tokens=500, temperature=0.0)):\n",
    "    bs_ft_eval = evaluate(basicmh_bs_ft, devset=devset[:TEST_SIZE])\n",
    "    bs_ft_bs_eval = evaluate(basicmh_bs_ft_bs, devset=devset[:TEST_SIZE])\n",
    "\n",
    "print(f\"Results for HotPotQA finetuning gpt-4o-mini with rejection sampling N={samples} and up to 1 attempts for each example with one model for all predictors. Tested on first {TEST_SIZE} of devset.\")\n",
    "print(f\"Non-finetuned model: {baseline_eval}\")\n",
    "print(f\"Non-finetuned bootstrapped model: {bs_eval}\")\n",
    "print(f\"Finetuned model: {bs_ft_eval}\")\n",
    "print(f\"Finetuned model with bootstrapping: {bs_ft_bs_eval}\")"
   ]
  }
 ],
 "metadata": {
  "kernelspec": {
   "display_name": ".venv",
   "language": "python",
   "name": "python3"
  },
  "language_info": {
   "codemirror_mode": {
    "name": "ipython",
    "version": 3
   },
   "file_extension": ".py",
   "mimetype": "text/x-python",
   "name": "python",
   "nbconvert_exporter": "python",
   "pygments_lexer": "ipython3",
   "version": "3.9.6"
  }
 },
 "nbformat": 4,
 "nbformat_minor": 2
}
