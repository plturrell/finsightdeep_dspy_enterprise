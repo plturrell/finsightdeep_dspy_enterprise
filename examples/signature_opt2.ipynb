{
 "cells": [
  {
   "cell_type": "code",
   "execution_count": 1,
   "metadata": {},
   "outputs": [
    {
     "name": "stderr",
     "output_type": "stream",
     "text": [
      "/opt/homebrew/lib/python3.11/site-packages/tqdm/auto.py:21: TqdmWarning: IProgress not found. Please update jupyter and ipywidgets. See https://ipywidgets.readthedocs.io/en/stable/user_install.html\n",
      "  from .autonotebook import tqdm as notebook_tqdm\n"
     ]
    }
   ],
   "source": [
    "%load_ext autoreload\n",
    "%autoreload 2\n",
    "import dspy\n",
    "import os\n",
    "os.environ['OPENAI_API_KEY'] = 'sk-...'"
   ]
  },
  {
   "cell_type": "code",
   "execution_count": 2,
   "metadata": {},
   "outputs": [],
   "source": [
    "turbo = dspy.OpenAI(model='gpt-3.5-turbo', max_tokens=4000)\n",
    "gpt4 = dspy.OpenAI(model='gpt-4', max_tokens=4000)\n",
    "dspy.settings.configure(lm=turbo)"
   ]
  },
  {
   "cell_type": "code",
   "execution_count": 3,
   "metadata": {},
   "outputs": [
    {
     "data": {
      "text/plain": [
       "(20, 50)"
      ]
     },
     "execution_count": 3,
     "metadata": {},
     "output_type": "execute_result"
    }
   ],
   "source": [
    "from dspy.datasets import HotPotQA\n",
    "\n",
    "# Load the dataset.\n",
    "dataset = HotPotQA(train_seed=1, train_size=20, eval_seed=2023, dev_size=50, test_size=0)\n",
    "\n",
    "# Tell DSPy that the 'question' field is the input. Any other fields are labels and/or metadata.\n",
    "trainset = [x.with_inputs('question') for x in dataset.train]\n",
    "devset = [x.with_inputs('question') for x in dataset.dev]\n",
    "\n",
    "len(trainset), len(devset)"
   ]
  },
  {
   "cell_type": "code",
   "execution_count": 4,
   "metadata": {},
   "outputs": [],
   "source": [
    "class BasicQA(dspy.Signature):\n",
    "    \"\"\"Answer questions with short factoid answers.\"\"\"\n",
    "\n",
    "    question = dspy.InputField()\n",
    "    answer = dspy.OutputField(desc=\"often between 1 and 5 words\")"
   ]
  },
  {
   "cell_type": "code",
   "execution_count": 5,
   "metadata": {},
   "outputs": [
    {
     "name": "stdout",
     "output_type": "stream",
     "text": [
      "None\n"
     ]
    },
    {
     "name": "stderr",
     "output_type": "stream",
     "text": [
      "/opt/homebrew/lib/python3.11/site-packages/pydantic/_internal/_fields.py:184: UserWarning: Field name \"signature\" shadows an attribute in parent \"Signature\"; \n",
      "  warnings.warn(\n"
     ]
    },
    {
     "ename": "TypeError",
     "evalue": "Field 'signature' in 'GenerateInstructionGivenAttempts' must be declared with InputField or OutputField. field.json_schema_extra=None",
     "output_type": "error",
     "traceback": [
      "\u001b[0;31m---------------------------------------------------------------------------\u001b[0m",
      "\u001b[0;31mTypeError\u001b[0m                                 Traceback (most recent call last)",
      "Cell \u001b[0;32mIn[5], line 4\u001b[0m\n\u001b[1;32m      2\u001b[0m \u001b[38;5;28;01mfrom\u001b[39;00m \u001b[38;5;21;01mdspy\u001b[39;00m\u001b[38;5;21;01m.\u001b[39;00m\u001b[38;5;21;01mevaluate\u001b[39;00m\u001b[38;5;21;01m.\u001b[39;00m\u001b[38;5;21;01mmetrics\u001b[39;00m \u001b[38;5;28;01mimport\u001b[39;00m answer_exact_match\n\u001b[1;32m      3\u001b[0m \u001b[38;5;28;01mfrom\u001b[39;00m \u001b[38;5;21;01mdspy\u001b[39;00m\u001b[38;5;21;01m.\u001b[39;00m\u001b[38;5;21;01mfunctional\u001b[39;00m \u001b[38;5;28;01mimport\u001b[39;00m TypedPredictor\n\u001b[0;32m----> 4\u001b[0m \u001b[38;5;28;01mfrom\u001b[39;00m \u001b[38;5;21;01mdspy\u001b[39;00m\u001b[38;5;21;01m.\u001b[39;00m\u001b[38;5;21;01mteleprompt\u001b[39;00m\u001b[38;5;21;01m.\u001b[39;00m\u001b[38;5;21;01msignature_opt2\u001b[39;00m \u001b[38;5;28;01mimport\u001b[39;00m optimize_signature\n\u001b[1;32m      6\u001b[0m evaluator \u001b[38;5;241m=\u001b[39m Evaluate(devset\u001b[38;5;241m=\u001b[39mdevset, metric\u001b[38;5;241m=\u001b[39manswer_exact_match, num_threads\u001b[38;5;241m=\u001b[39m\u001b[38;5;241m10\u001b[39m, display_progress\u001b[38;5;241m=\u001b[39m\u001b[38;5;28;01mTrue\u001b[39;00m)\n\u001b[1;32m      8\u001b[0m program \u001b[38;5;241m=\u001b[39m optimize_signature(\n\u001b[1;32m      9\u001b[0m     student\u001b[38;5;241m=\u001b[39mTypedPredictor(BasicQA),\n\u001b[1;32m     10\u001b[0m     evaluator\u001b[38;5;241m=\u001b[39mEvaluate(devset\u001b[38;5;241m=\u001b[39mtrainset, metric\u001b[38;5;241m=\u001b[39manswer_exact_match, num_threads\u001b[38;5;241m=\u001b[39m\u001b[38;5;241m10\u001b[39m, display_progress\u001b[38;5;241m=\u001b[39m\u001b[38;5;28;01mTrue\u001b[39;00m),\n\u001b[0;32m   (...)\u001b[0m\n\u001b[1;32m     14\u001b[0m     prompt_model\u001b[38;5;241m=\u001b[39mgpt4,\n\u001b[1;32m     15\u001b[0m )\n",
      "File \u001b[0;32m~/repos/dspy/dspy/teleprompt/signature_opt2.py:97\u001b[0m\n\u001b[1;32m     93\u001b[0m     signature: T\n\u001b[1;32m     94\u001b[0m     score: \u001b[38;5;28mfloat\u001b[39m \u001b[38;5;241m=\u001b[39m dspy\u001b[38;5;241m.\u001b[39mField(gt\u001b[38;5;241m=\u001b[39m\u001b[38;5;241m0\u001b[39m, lt\u001b[38;5;241m=\u001b[39m\u001b[38;5;241m100\u001b[39m)\n\u001b[0;32m---> 97\u001b[0m \u001b[38;5;28;43;01mclass\u001b[39;49;00m\u001b[43m \u001b[49m\u001b[38;5;21;43;01mGenerateInstructionGivenAttempts\u001b[39;49;00m\u001b[43m(\u001b[49m\u001b[43mdspy\u001b[49m\u001b[38;5;241;43m.\u001b[39;49m\u001b[43mSignature\u001b[49m\u001b[43m,\u001b[49m\u001b[43m \u001b[49m\u001b[43mGeneric\u001b[49m\u001b[43m[\u001b[49m\u001b[43mT\u001b[49m\u001b[43m]\u001b[49m\u001b[43m)\u001b[49m\u001b[43m:\u001b[49m\n\u001b[1;32m     98\u001b[0m \u001b[38;5;250;43m    \u001b[39;49m\u001b[38;5;124;43;03m\"\"\"You are an instruction optimizer for large language models.\u001b[39;49;00m\n\u001b[1;32m     99\u001b[0m \n\u001b[1;32m    100\u001b[0m \u001b[38;5;124;43;03m    I will give some task instructions I've tried, along with their corresponding validation scores.\u001b[39;49;00m\n\u001b[0;32m   (...)\u001b[0m\n\u001b[1;32m    104\u001b[0m \u001b[38;5;124;43;03m    - Don't repeat instructions, descriptions and prefixes that have already been attempted.\u001b[39;49;00m\n\u001b[1;32m    105\u001b[0m \u001b[38;5;124;43;03m    \"\"\"\u001b[39;49;00m\n\u001b[1;32m    107\u001b[0m \u001b[43m    \u001b[49m\u001b[43msignature\u001b[49m\u001b[43m:\u001b[49m\u001b[43m \u001b[49m\u001b[43mT\u001b[49m\u001b[43m \u001b[49m\u001b[38;5;241;43m=\u001b[39;49m\u001b[43m \u001b[49m\u001b[43mdspy\u001b[49m\u001b[38;5;241;43m.\u001b[39;49m\u001b[43mOutputField\u001b[49m\u001b[43m(\u001b[49m\u001b[43mdesc\u001b[49m\u001b[38;5;241;43m=\u001b[39;49m\u001b[38;5;124;43m\"\u001b[39;49m\u001b[38;5;124;43mProposed signature to try\u001b[39;49m\u001b[38;5;124;43m\"\u001b[39;49m\u001b[43m)\u001b[49m\n",
      "File \u001b[0;32m~/repos/dspy/dspy/signatures/signature.py:48\u001b[0m, in \u001b[0;36mSignatureMeta.__new__\u001b[0;34m(mcs, signature_name, bases, namespace, **kwargs)\u001b[0m\n\u001b[1;32m     45\u001b[0m     \u001b[38;5;28mcls\u001b[39m\u001b[38;5;241m.\u001b[39m\u001b[38;5;18m__doc__\u001b[39m \u001b[38;5;241m=\u001b[39m _default_instructions(\u001b[38;5;28mcls\u001b[39m)\n\u001b[1;32m     47\u001b[0m \u001b[38;5;66;03m# Ensure all fields are declared with InputField or OutputField\u001b[39;00m\n\u001b[0;32m---> 48\u001b[0m \u001b[38;5;28;43mcls\u001b[39;49m\u001b[38;5;241;43m.\u001b[39;49m\u001b[43m_validate_fields\u001b[49m\u001b[43m(\u001b[49m\u001b[43m)\u001b[49m\n\u001b[1;32m     50\u001b[0m \u001b[38;5;66;03m# Ensure all fields have a prefix\u001b[39;00m\n\u001b[1;32m     51\u001b[0m \u001b[38;5;28;01mfor\u001b[39;00m name, field \u001b[38;5;129;01min\u001b[39;00m \u001b[38;5;28mcls\u001b[39m\u001b[38;5;241m.\u001b[39mmodel_fields\u001b[38;5;241m.\u001b[39mitems():\n",
      "File \u001b[0;32m~/repos/dspy/dspy/signatures/signature.py:65\u001b[0m, in \u001b[0;36mSignatureMeta._validate_fields\u001b[0;34m(cls)\u001b[0m\n\u001b[1;32m     63\u001b[0m \u001b[38;5;28;01mif\u001b[39;00m field_type \u001b[38;5;129;01mnot\u001b[39;00m \u001b[38;5;129;01min\u001b[39;00m [\u001b[38;5;124m\"\u001b[39m\u001b[38;5;124minput\u001b[39m\u001b[38;5;124m\"\u001b[39m, \u001b[38;5;124m\"\u001b[39m\u001b[38;5;124moutput\u001b[39m\u001b[38;5;124m\"\u001b[39m]:\n\u001b[1;32m     64\u001b[0m     \u001b[38;5;28mprint\u001b[39m(field\u001b[38;5;241m.\u001b[39mjson_schema_extra)\n\u001b[0;32m---> 65\u001b[0m     \u001b[38;5;28;01mraise\u001b[39;00m \u001b[38;5;167;01mTypeError\u001b[39;00m(\n\u001b[1;32m     66\u001b[0m         \u001b[38;5;124mf\u001b[39m\u001b[38;5;124m\"\u001b[39m\u001b[38;5;124mField \u001b[39m\u001b[38;5;124m'\u001b[39m\u001b[38;5;132;01m{\u001b[39;00mname\u001b[38;5;132;01m}\u001b[39;00m\u001b[38;5;124m'\u001b[39m\u001b[38;5;124m in \u001b[39m\u001b[38;5;124m'\u001b[39m\u001b[38;5;132;01m{\u001b[39;00m\u001b[38;5;28mcls\u001b[39m\u001b[38;5;241m.\u001b[39m\u001b[38;5;18m__name__\u001b[39m\u001b[38;5;132;01m}\u001b[39;00m\u001b[38;5;124m'\u001b[39m\u001b[38;5;124m must be declared with InputField or OutputField. \u001b[39m\u001b[38;5;132;01m{\u001b[39;00mfield\u001b[38;5;241m.\u001b[39mjson_schema_extra\u001b[38;5;132;01m=}\u001b[39;00m\u001b[38;5;124m\"\u001b[39m,\n\u001b[1;32m     67\u001b[0m     )\n",
      "\u001b[0;31mTypeError\u001b[0m: Field 'signature' in 'GenerateInstructionGivenAttempts' must be declared with InputField or OutputField. field.json_schema_extra=None"
     ]
    }
   ],
   "source": [
    "from dspy.evaluate import Evaluate\n",
    "from dspy.evaluate.metrics import answer_exact_match\n",
    "from dspy.functional import TypedPredictor\n",
    "from dspy.teleprompt.signature_opt2 import optimize_signature\n",
    "\n",
    "evaluator = Evaluate(devset=devset, metric=answer_exact_match, num_threads=10, display_progress=True)\n",
    "\n",
    "program = optimize_signature(\n",
    "    student=TypedPredictor(BasicQA),\n",
    "    evaluator=Evaluate(devset=trainset, metric=answer_exact_match, num_threads=10, display_progress=True),\n",
    "    initial_prompts=2,\n",
    "    n_iterations=8,\n",
    "    verbose=True,\n",
    "    prompt_model=gpt4,\n",
    ")"
   ]
  },
  {
   "cell_type": "code",
   "execution_count": null,
   "metadata": {},
   "outputs": [
    {
     "name": "stdout",
     "output_type": "stream",
     "text": [
      "\n",
      "\n",
      "\n",
      "\n",
      "Given the fields `attempted_signatures`, produce the fields `proposed_signature`.\n",
      "\n",
      "---\n",
      "\n",
      "Follow the following format.\n",
      "\n",
      "Attempted Signatures: ${attempted_signatures}\n",
      "Reasoning: Let's think step by step in order to ${produce the proposed_signature}. We ...\n",
      "Proposed Signature: The improved signature for the language model. Respond with a single JSON object. JSON Schema: {\"properties\": {\"instructions\": {\"description\": \"The instructions for the task\", \"title\": \"Instructions\", \"type\": \"string\"}, \"question_prefix\": {\"description\": \"The prefix for question\", \"title\": \"Question Prefix\", \"type\": \"string\"}, \"question_desc\": {\"description\": \"The description for question\", \"title\": \"Question Desc\", \"type\": \"string\"}, \"answer_prefix\": {\"description\": \"The prefix for answer\", \"title\": \"Answer Prefix\", \"type\": \"string\"}, \"answer_desc\": {\"description\": \"The description for answer\", \"title\": \"Answer Desc\", \"type\": \"string\"}}, \"required\": [\"instructions\", \"question_prefix\", \"question_desc\", \"answer_prefix\", \"answer_desc\"], \"title\": \"SignatureInfo[BasicQA]\", \"type\": \"object\"}\n",
      "\n",
      "---\n",
      "\n",
      "Attempted Signatures: [{\"signature\":{\"instructions\":\"Answer questions with short factoid answers.(0)\",\"question_prefix\":\"Question:\",\"question_desc\":\"${question}\",\"answer_prefix\":\"Answer:\",\"answer_desc\":\"often between 1 and 5 words\"},\"score\":25.0},{\"signature\":{\"instructions\":\"Answer series of questions where answers must share a common theme.(1)\",\"question_prefix\":\"Q1,\",\"question_desc\":\"${question}\",\"answer_prefix\":\"A1 Wolfgang Amplifier,\",\"answer_desc\":\"charge amplifier designed based by Moog on stripline technology\"},\"score\":25.0},{\"signature\":{\"instructions\":\"Simulate exploratory dialogue between two people one Questioner and other Provider, Respond to each Q- below.(2)\",\"question_prefix\":\"Q-What Computability study ranges?\",\"question_desc\":\"may also involve strings produced by non-deterministic computation\",\"answer_prefix\":\"A-The explain phase-leading out question onset sound crawled fundingProblem in such separated syllabled band phrase assist reduction Haus mutual widse phoneme runtime shruproperholderstoInt valuepirizeThunder\",\"answer_desc\":\"answer DescHash Pure stainless Aberdeen stimulating Victoria names central whiskey article promise twitch Ohio Amber how statements board!\"},\"score\":25.0}]\n",
      "Reasoning: Let's think step by step in order to\u001b[32m produce the proposed_signature. We can see that the attempted signatures are quite varied and complex, with different instructions, prefixes, and descriptions for both questions and answers. However, they all share a common structure: they all have instructions, a question prefix, a question description, an answer prefix, and an answer description. Therefore, we can propose a signature that includes these common elements, but with more general descriptions to accommodate the variety of tasks. \n",
      "Proposed Signature: The improved signature for the language model. Respond with a single JSON object. JSON Schema: {\"properties\": {\"instructions\": {\"description\": \"The instructions for the task\", \"title\": \"Instructions\", \"type\": \"string\"}, \"question_prefix\": {\"description\": \"The prefix for question\", \"title\": \"Question Prefix\", \"type\": \"string\"}, \"question_desc\": {\"description\": \"The description for question\", \"title\": \"Question Desc\", \"type\": \"string\"}, \"answer_prefix\": {\"description\": \"The prefix for answer\", \"title\": \"Answer Prefix\", \"type\": \"string\"}, \"answer_desc\": {\"description\": \"The description for answer\", \"title\": \"Answer Desc\", \"type\": \"string\"}}, \"required\": [\"instructions\", \"question_prefix\", \"question_desc\", \"answer_prefix\", \"answer_desc\"], \"title\": \"SignatureInfo[BasicQA]\", \"type\": \"object\"}\u001b[0m\n",
      "\n",
      "\n",
      "\n",
      "\n",
      "\n",
      "\n",
      "\n",
      "Make a very succinct json object that validates with the following schema\n",
      "\n",
      "---\n",
      "\n",
      "Follow the following format.\n",
      "\n",
      "Json Schema: ${json_schema}\n",
      "Json Object: ${json_object}\n",
      "\n",
      "---\n",
      "\n",
      "Json Schema: {\"properties\": {\"instructions\": {\"description\": \"The instructions for the task\", \"title\": \"Instructions\", \"type\": \"string\"}, \"question_prefix\": {\"description\": \"The prefix for question\", \"title\": \"Question Prefix\", \"type\": \"string\"}, \"question_desc\": {\"description\": \"The description for question\", \"title\": \"Question Desc\", \"type\": \"string\"}, \"answer_prefix\": {\"description\": \"The prefix for answer\", \"title\": \"Answer Prefix\", \"type\": \"string\"}, \"answer_desc\": {\"description\": \"The description for answer\", \"title\": \"Answer Desc\", \"type\": \"string\"}}, \"required\": [\"instructions\", \"question_prefix\", \"question_desc\", \"answer_prefix\", \"answer_desc\"], \"title\": \"SignatureInfo[BasicQA]\", \"type\": \"object\"}\n",
      "Json Object:\u001b[32m {\"instructions\": \"Complete the task\", \"question_prefix\": \"Q:\", \"question_desc\": \"What is the capital of France?\", \"answer_prefix\": \"A:\", \"answer_desc\": \"Paris\"}\u001b[0m\n",
      "\n",
      "\n",
      "\n",
      "\n",
      "\n",
      "\n",
      "\n",
      "Given the fields `attempted_signatures`, produce the fields `proposed_signature`.\n",
      "\n",
      "---\n",
      "\n",
      "Follow the following format.\n",
      "\n",
      "Attempted Signatures: ${attempted_signatures}\n",
      "\n",
      "Past Error (proposed_signature): An error to avoid in the future\n",
      "\n",
      "Reasoning: Let's think step by step in order to ${produce the proposed_signature}. We ...\n",
      "\n",
      "Proposed Signature:\n",
      "The improved signature for the language model. Respond with a single JSON object. \n",
      "You MUST use this format: {\"instructions\": \"Complete the task\", \"question_prefix\": \"Q:\", \"question_desc\": \"What is the capital of France?\", \"answer_prefix\": \"A:\", \"answer_desc\": \"Paris\"}\n",
      "JSON Schema: {\"properties\": {\"instructions\": {\"description\": \"The instructions for the task\", \"title\": \"Instructions\", \"type\": \"string\"}, \"question_prefix\": {\"description\": \"The prefix for question\", \"title\": \"Question Prefix\", \"type\": \"string\"}, \"question_desc\": {\"description\": \"The description for question\", \"title\": \"Question Desc\", \"type\": \"string\"}, \"answer_prefix\": {\"description\": \"The prefix for answer\", \"title\": \"Answer Prefix\", \"type\": \"string\"}, \"answer_desc\": {\"description\": \"The description for answer\", \"title\": \"Answer Desc\", \"type\": \"string\"}}, \"required\": [\"instructions\", \"question_prefix\", \"question_desc\", \"answer_prefix\", \"answer_desc\"], \"title\": \"SignatureInfo[BasicQA]\", \"type\": \"object\"}\n",
      "\n",
      "---\n",
      "\n",
      "Attempted Signatures: [{\"signature\":{\"instructions\":\"Answer questions with short factoid answers.(0)\",\"question_prefix\":\"Question:\",\"question_desc\":\"${question}\",\"answer_prefix\":\"Answer:\",\"answer_desc\":\"often between 1 and 5 words\"},\"score\":25.0},{\"signature\":{\"instructions\":\"Answer series of questions where answers must share a common theme.(1)\",\"question_prefix\":\"Q1,\",\"question_desc\":\"${question}\",\"answer_prefix\":\"A1 Wolfgang Amplifier,\",\"answer_desc\":\"charge amplifier designed based by Moog on stripline technology\"},\"score\":25.0},{\"signature\":{\"instructions\":\"Simulate exploratory dialogue between two people one Questioner and other Provider, Respond to each Q- below.(2)\",\"question_prefix\":\"Q-What Computability study ranges?\",\"question_desc\":\"may also involve strings produced by non-deterministic computation\",\"answer_prefix\":\"A-The explain phase-leading out question onset sound crawled fundingProblem in such separated syllabled band phrase assist reduction Haus mutual widse phoneme runtime shruproperholderstoInt valuepirizeThunder\",\"answer_desc\":\"answer DescHash Pure stainless Aberdeen stimulating Victoria names central whiskey article promise twitch Ohio Amber how statements board!\"},\"score\":25.0}]\n",
      "\n",
      "Past Error (proposed_signature): ValueError('json output should start and end with { and }')\n",
      "\n",
      "Reasoning: Let's think step by step in order to\u001b[32m produce the proposed_signature. We need to ensure that the JSON object is properly formatted and contains all the required fields. The attempted signatures provided are not in the correct format. They contain additional fields such as \"score\" and the structure of the JSON object is not as expected. The JSON object should start and end with { and }, and should not contain any additional fields or arrays. \n",
      "\n",
      "Proposed Signature:\n",
      "{\"instructions\": \"Answer questions with short factoid answers.\", \"question_prefix\": \"Question:\", \"question_desc\": \"${question}\", \"answer_prefix\": \"Answer:\", \"answer_desc\": \"often between 1 and 5 words\"}\u001b[0m\n",
      "\n",
      "\n",
      "\n"
     ]
    }
   ],
   "source": [
    "gpt4.inspect_history(n=3)"
   ]
  }
 ],
 "metadata": {
  "kernelspec": {
   "display_name": "py39",
   "language": "python",
   "name": "python3"
  },
  "language_info": {
   "codemirror_mode": {
    "name": "ipython",
    "version": 3
   },
   "file_extension": ".py",
   "mimetype": "text/x-python",
   "name": "python",
   "nbconvert_exporter": "python",
   "pygments_lexer": "ipython3",
   "version": "3.11.8"
  },
  "orig_nbformat": 4
 },
 "nbformat": 4,
 "nbformat_minor": 2
}
