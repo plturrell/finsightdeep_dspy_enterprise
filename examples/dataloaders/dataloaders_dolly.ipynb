{
  "cells": [
    {
      "cell_type": "markdown",
      "metadata": {
        "id": "i9ZPeh5Gk2pX"
      },
      "source": [
        "![dspy_logo.png](data:image/png;base64,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)"
      ]
    },
    {
      "cell_type": "markdown",
      "metadata": {
        "id": "FH5S5Xm1lMC-"
      },
      "source": [
        "In the **DSPy** framework, the primary data type utilized for interactions with various modules `Example`. Given the huge repository of datasets available through Hugging Face, there's a significant opportunity to leverage these resources within DSPy. However, to make these datasets compatible and fully utilizable, they need to be converted into the `Example` data format.\n",
        "\n",
        "Moreover, CSV files are a common format for storing and exchanging data, recognized for their simplicity and wide application across various domains. The conversion of data from CSV format into the `Example` format is a necessary requirement. But can we we do something to avoid this tedious process?\n",
        "\n",
        "Introducing `DataLoaders`, a module aimed at simplifying the task of importing dataset from diverse sources, including HuggingFace and CSV files, into the `Example` format. `DataLoaders` are designed to abstract away the complexities and boilerplate involved in data conversion, offering a user-friendly interface for loading, transforming, and preparing data for use within the DSPy framework. This addition significantly enhances the ease of use of DSPy."
      ]
    },
    {
      "cell_type": "markdown",
      "metadata": {
        "id": "RqSZB2MqsTAQ"
      },
      "source": [
        "# Setting Up"
      ]
    },
    {
      "cell_type": "code",
      "execution_count": null,
      "metadata": {
        "colab": {
          "base_uri": "https://localhost:8080/"
        },
        "id": "XZ2MimQMkyjA",
        "outputId": "dc046d83-1dc7-437b-ea34-201a62efb072"
      },
      "outputs": [],
      "source": [
        "%load_ext autoreload\n",
        "%autoreload 2\n",
        "\n",
        "import sys\n",
        "import os\n",
        "\n",
        "try: # When on google Colab, let's clone the notebook so we download the cache.\n",
        "    import google.colab\n",
        "    repo_path = 'dspy'\n",
        "    !git -C $repo_path pull origin || git clone https://github.com/stanfordnlp/dspy $repo_path\n",
        "except:\n",
        "    repo_path = '.'\n",
        "\n",
        "if repo_path not in sys.path:\n",
        "    sys.path.append(repo_path)\n",
        "\n",
        "# Set up the cache for this notebook\n",
        "os.environ[\"DSP_NOTEBOOK_CACHEDIR\"] = os.path.join(repo_path, 'cache')\n",
        "\n",
        "import pkg_resources # Install the package if it's not installed\n",
        "if not \"dspy-ai\" in {pkg.key for pkg in pkg_resources.working_set}:\n",
        "    !pip install -U pip\n",
        "    # !pip install dspy-ai\n",
        "    !pip install -e $repo_path"
      ]
    },
    {
      "cell_type": "markdown",
      "metadata": {
        "id": "PtBml664suSx"
      },
      "source": [
        "# Using `DataLoader`\n",
        "\n",
        "Currently `DataLoader` provides support for data loading for following sources:\n",
        "\n",
        "* HuggingFace using `from_huggingface()` method.\n",
        "* CSV Files using `from_csv()` method.\n",
        "\n",
        "We'll start by initializing the `DataLoader` object that takes same argument as that of [`Dataset`](https://github.com/stanfordnlp/dspy/blob/main/dspy/datasets/dataset.py) class which are dataset size (in % format) and seed for each of the three splits: `train`, `dev` and `test`."
      ]
    },
    {
      "cell_type": "code",
      "execution_count": null,
      "metadata": {
        "id": "UeB7AEvhshfe"
      },
      "outputs": [],
      "source": [
        "import dspy\n",
        "from dspy.datasets import DataLoader\n",
        "\n",
        "dl = DataLoader(\n",
        "    train_size = 0.5,\n",
        "    dev_size = 0.3,\n",
        "    test_size = 0.2,\n",
        ")"
      ]
    },
    {
      "cell_type": "markdown",
      "metadata": {
        "id": "RR8vp-IWv-N0"
      },
      "source": [
        "## Loading from HuggingFace\n",
        "\n",
        "To load data from Hugging Face we have `from_huggingface` method which loads a dataset from Hugging Face's datasets library and processes it according to the object's configuration.\n",
        "\n",
        "Parameters:\n",
        "* `dataset_name`: The name of the dataset to load from Hugging Face's datasets.\n",
        "* `fields`: An optional list of strings specifying which fields to include in the final datasets. If None, all fields in the dataset are included.\n",
        "* `splits`: A string or list of strings specifying which splits of the dataset to load. If None, the entire dataset is loaded. If it's a list of splits, **it'll concatinate all the splits into 1 split**.\n",
        "* `revision`: An optional string specifying the version of the dataset to load. Same parameter as that of datasets library."
      ]
    },
    {
      "cell_type": "code",
      "execution_count": null,
      "metadata": {
        "id": "OslWdJbMvVYU"
      },
      "outputs": [],
      "source": [
        "dolly_dataset = dl.from_huggingface(\n",
        "    \"databricks/databricks-dolly-15k\",\n",
        "    fields=[\"instruction\", \"context\", \"response\"],\n",
        "    splits=\"train\" # or splits = [\"train\", \"test\"]\n",
        ")"
      ]
    },
    {
      "cell_type": "markdown",
      "metadata": {
        "id": "RRyYfcTUF121"
      },
      "source": [
        "Once the above code is executed the data would be returned in a dict with keys `train`, `dev`, and `test` containing the List of `Example` for each split based on the configuration of size and seed set in the object during initialization:"
      ]
    },
    {
      "cell_type": "code",
      "execution_count": null,
      "metadata": {
        "colab": {
          "base_uri": "https://localhost:8080/"
        },
        "id": "CIj3Tkj6zWTq",
        "outputId": "d9529450-1232-4c70-b8d8-c5171ea9ab43"
      },
      "outputs": [],
      "source": [
        "print(f\"Keys present in the returned dict: {list(dolly_dataset.keys())}\")\n",
        "\n",
        "print(f\"Number of examples in train set: {len(dolly_dataset['train'])}\")\n",
        "print(f\"Number of examples in dev set: {len(dolly_dataset['dev'])}\")\n",
        "print(f\"Number of examples in test set: {len(dolly_dataset['test'])}\")"
      ]
    },
    {
      "cell_type": "markdown",
      "metadata": {
        "id": "WJ78GF1kPn9N"
      },
      "source": [
        "## Loading from CSV\n",
        "\n",
        "To load data from CSV we have `from_csv` method which loads a dataset from CSV files and processes it according to the object's configuration just like `from_huggingface` method. Everything is the same as `from_huggingface` method except the arguments which are slightly different but not too much:\n",
        "\n",
        "* `file_path`: The file path of the CSV file to load.\n",
        "* `fields`: An optional list of strings specifying which columns to include in the final datasets. If None, all columns in the dataset are included."
      ]
    },
    {
      "cell_type": "code",
      "execution_count": null,
      "metadata": {
        "id": "tkK14QOVQwph"
      },
      "outputs": [],
      "source": [
        "dl = DataLoader(\n",
        "    train_size = 1.0, # Must be float\n",
        ")\n",
        "\n",
        "dolly_100_dataset = dl.from_csv(\n",
        "    \"dolly_subset_100_rows.csv\",\n",
        "    fields=[\"instruction\", \"context\", \"response\"],\n",
        ")"
      ]
    },
    {
      "cell_type": "markdown",
      "metadata": {
        "id": "q2Zcn1X2RPr_"
      },
      "source": [
        "Once the above code is executed the data would be returned in a dict with keys `train`, `dev`, and `test` containing the List of `Example` for each split based on the configuration of size and seed set in the object during initialization"
      ]
    },
    {
      "cell_type": "code",
      "execution_count": null,
      "metadata": {
        "colab": {
          "base_uri": "https://localhost:8080/"
        },
        "id": "TIrNy_wrQ4B5",
        "outputId": "0d44d6b5-b72e-48af-939b-3938060e5b37"
      },
      "outputs": [],
      "source": [
        "print(f\"Keys present in the returned dict: {list(dolly_100_dataset.keys())}\")\n",
        "\n",
        "print(f\"Number of examples in train set: {len(dolly_100_dataset['train'])}\")"
      ]
    },
    {
      "cell_type": "code",
      "execution_count": null,
      "metadata": {
        "id": "r4K2TWkRWdDR"
      },
      "outputs": [],
      "source": []
    }
  ],
  "metadata": {
    "colab": {
      "provenance": []
    },
    "kernelspec": {
      "display_name": "Python 3",
      "name": "python3"
    },
    "language_info": {
      "name": "python",
      "version": "3.10.12"
    }
  },
  "nbformat": 4,
  "nbformat_minor": 0
}
