{
 "cells": [
  {
   "cell_type": "markdown",
   "metadata": {},
   "source": [
    "Coming soon.\n",
    "\n",
    "There are some old docs for:\n",
    "\n",
    "#### Modules\n",
    "\n",
    "- [`dspy.Retrieve`](docs/modules.md#dspyretrieve)\n",
    "\n",
    "\n",
    "#### Retrieval Model Clients\n",
    "\n",
    "- [`dspy.ColBERTv2`](docs/retrieval_models_client.md#colbertv2)\n",
    "- [`dspy.AzureCognitiveSearch`](docs/retrieval_models_client.md#azurecognitivesearch)\n",
    "- `dspy.Pyserini`\n",
    "- `dspy.Pinecone`\n",
    "- `dspy.Qdrant`\n",
    "- `dspy.Chromadb`\n",
    "- `dspy.Marqo`\n"
   ]
  },
  {
   "cell_type": "markdown",
   "metadata": {},
   "source": []
  }
 ],
 "metadata": {
  "language_info": {
   "name": "python"
  }
 },
 "nbformat": 4,
 "nbformat_minor": 2
}
