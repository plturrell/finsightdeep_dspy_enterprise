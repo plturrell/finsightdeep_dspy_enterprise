{
 "cells": [
  {
   "cell_type": "code",
   "execution_count": null,
   "metadata": {},
   "outputs": [
    {
     "name": "stdout",
     "output_type": "stream",
     "text": [
      "The autoreload extension is already loaded. To reload it, use:\n",
      "  %reload_ext autoreload\n"
     ]
    },
    {
     "name": "stderr",
     "output_type": "stream",
     "text": [
      "UsageError: unrecognized arguments: import sys; sys.path.append('/future/u/okhattab/repos/public/tmp/dspy')\n"
     ]
    }
   ],
   "source": [
    "%load_ext autoreload\n",
    "%autoreload 2\n",
    "import sys; sys.path.append('/future/u/okhattab/repos/public/tmp/dspy')"
   ]
  },
  {
   "cell_type": "markdown",
   "metadata": {},
   "source": [
    "<img src=\"../../docs/images/DSPy8.png\" alt=\"DSPy7 Image\" height=\"150\"/>\n",
    "\n",
    "## Guide: **DSPy Optimizers**\n",
    "\n",
    "Formerly called **DSPy Teleprompters**. We will be making an official name update.\n",
    "\n",
    "[<img align=\"center\" src=\"https://colab.research.google.com/assets/colab-badge.svg\" />](https://colab.research.google.com/github/stanfordnlp/dspy/blob/main/docs/guides/signatures.ipynb)"
   ]
  },
  {
   "cell_type": "markdown",
   "metadata": {},
   "source": [
    "### Quick Recap\n",
    "\n",
    "This guide assumes you followed the [intro tutorial]() to build your first few DSPy programs.\n",
    "\n",
    "Remember that a **DSPy program** is just Python code that calls one or more DSPy modules, like `dspy.Predict` or `dspy.ChainOfThought`, to use LMs."
   ]
  },
  {
   "cell_type": "markdown",
   "metadata": {},
   "source": [
    "### 1) What is a DSPy Optimizer?\n",
    "\n",
    "A **DSPy optimizer** is an algorithm that can tune the parameters of a DSPy program (i.e., the prompts and the LM weights) to maximize the metrics you specify, like accuracy.\n",
    "\n",
    "There are many built-in optimizers in DSPy. They apply different strategies to tune your programs. A typical DSPy optimizer takes three things:\n",
    "\n",
    "- Your **DSPy program**. This may be a single module (e.g., `dspy.Predict`) or a complex multi-module program.\n",
    "\n",
    "- Your **metric**. This is a function that evaluates the output of your program, and assigns it a score (higher is better).\n",
    "\n",
    "- A few **training inputs**. This may be very small (i.e., only 5 or 10 examples) or incomplete (only inputs to your program, without any labels).\n",
    "\n",
    "Your training data could also be large or complete. DSPy can leverage having a lot of data, but you can start small."
   ]
  },
  {
   "cell_type": "markdown",
   "metadata": {},
   "source": [
    "### 2) **What** does a DSPy Optimizer tune? **How** does it tune them?\n",
    "\n",
    "Traditional deep neural networks (DNNs) can be optimized with gradient descent, given a loss function and some training data.\n",
    "\n",
    "DSPy programs consist of multiple calls to LMs, stacked togther as [DSPy modules](). Each DSPy module has internal parameters of three kinds: (1) the LM weights, (2) the instructions, and (3) demonstrations of the input/output behavior.\n",
    "\n",
    "Given a metric, DSPy can optimize all of these three with multi-stage optimization algorithms. These can combine gradient descent (for LM weights) and LM-driven optimization (for the instructions), but primarily rely on discrete optimization for creating and validating demonstrations. DSPy Demonstrations are like few-shot examples, but they're far more powerful. They can be created from scratch, given your program, and their creation and selection can be optimized in many effective ways.\n",
    "\n",
    "In many cases, we found that compiling leads to better prompts than humans write. Not because DSPy optimizers are more creative than humans, but simply because they can try more things and tune the metrics directly."
   ]
  },
  {
   "cell_type": "code",
   "execution_count": null,
   "metadata": {},
   "outputs": [],
   "source": [
    "# Install `dspy-ai` if needed. Then set up a default language model.\n",
    "# TODO: Add a graceful line for OPENAI_API_KEY.\n",
    "\n",
    "try: import dspy\n",
    "except ImportError:\n",
    "    %pip install dspy-ai\n",
    "    import dspy\n",
    "\n",
    "dspy.configure(lm=dspy.OpenAI(model='gpt-3.5-turbo-1106'))"
   ]
  },
  {
   "cell_type": "markdown",
   "metadata": {},
   "source": [
    "### 2) What DSPy Optimizers are currently available?\n",
    "\n",
    "All of these can be accessed via `from dspy.teleprompt import *`.\n",
    "\n",
    "#### Automatic Few-Shot Learning\n",
    "\n",
    "1. **`LabeledFewShot`**:\n",
    "\n",
    "2. **`BootstrapFewShot`**: \n",
    "\n",
    "3. **`BootstrapFewShotWithRandomSearch`**:\n",
    "\n",
    "4. **`BootstrapFewShotWithOptuna`**:\n",
    "\n",
    "\n",
    "#### Automatic Instruction Optimization\n",
    "\n",
    "5. **`SignatureOptimizer`**:\n",
    "\n",
    "\n",
    "#### Automatic Finetuning\n",
    "\n",
    "6. **`BootstrapFinetune`**:\n",
    "\n",
    "\n",
    "#### Program Transformations\n",
    "\n",
    "7. **`KNNFewShot`**:\n",
    "\n",
    "8. **`Ensemble`**:\n",
    "\n",
    "\n",
    "#### Which one should I use?\n",
    "\n",
    "As a rule of thumb, if you don't know where to start, use `BootstrapFewShotWithRandomSearch`.\n",
    "\n",
    "There are some old docs for:\n",
    "\n",
    "- [`dspy.teleprompt.LabeledFewShot`](docs/teleprompters.md#telepromptlabeledfewshot)\n",
    "- [`dspy.teleprompt.BootstrapFewShot`](docs/teleprompters.md#telepromptbootstrapfewshot)\n",
    "- [`dspy.teleprompt.BootstrapFewShotWithRandomSearch`](docs/teleprompters.md#telepromptbootstrapfewshotwithrandomsearch)\n",
    "- [`dspy.teleprompt.BootstrapFinetune`](docs/teleprompters.md#telepromptbootstrapfinetune)\n",
    "- [`dspy.teleprompt.Ensemble`](docs/teleprompters.md#telepromptensemble)\n",
    "- `dspy.teleprompt.kNN`\n"
   ]
  },
  {
   "cell_type": "markdown",
   "metadata": {},
   "source": []
  }
 ],
 "metadata": {
  "language_info": {
   "name": "python"
  }
 },
 "nbformat": 4,
 "nbformat_minor": 2
}
